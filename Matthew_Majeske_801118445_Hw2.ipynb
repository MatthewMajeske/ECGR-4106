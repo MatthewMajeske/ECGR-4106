{
 "cells": [
  {
   "cell_type": "code",
   "execution_count": 3,
   "id": "1221196d",
   "metadata": {},
   "outputs": [
    {
     "name": "stderr",
     "output_type": "stream",
     "text": [
      "C:\\Users\\matth\\anaconda3\\envs\\aiclass\\lib\\site-packages\\tqdm\\auto.py:22: TqdmWarning: IProgress not found. Please update jupyter and ipywidgets. See https://ipywidgets.readthedocs.io/en/stable/user_install.html\n",
      "  from .autonotebook import tqdm as notebook_tqdm\n"
     ]
    },
    {
     "name": "stdout",
     "output_type": "stream",
     "text": [
      "cuda\n"
     ]
    }
   ],
   "source": [
    "import os\n",
    "import torch\n",
    "import torch.nn as nn\n",
    "import torch.nn.functional as F\n",
    "import torch.optim as optim\n",
    "import time\n",
    "\n",
    "\n",
    "import torchvision\n",
    "from torchvision import transforms\n",
    "import torchvision.models as models\n",
    "from ptflops import get_model_complexity_info\n",
    "\n",
    "import numpy as np\n",
    "import pandas as pd\n",
    "\n",
    "import sklearn\n",
    "from sklearn.model_selection import train_test_split\n",
    "from sklearn.preprocessing import StandardScaler\n",
    "\n",
    "import matplotlib.pyplot as plt\n",
    "\n",
    "device = torch.device(\"cuda\" if torch.cuda.is_available() else \"cpu\")\n",
    "print(device)\n"
   ]
  },
  {
   "cell_type": "code",
   "execution_count": 33,
   "id": "b6878d65",
   "metadata": {},
   "outputs": [],
   "source": [
    "transform = transforms.Compose([\n",
    "        transforms.ToTensor(),\n",
    "        transforms.Normalize((0.5), (0.5), (0.5))\n",
    "    ])\n",
    "ftrain = torchvision.datasets.FashionMNIST(\"./Data\",download=True,transform=transform)\n",
    "ftest =  torchvision.datasets.FashionMNIST(\"./Data\", download=True, train=False, transform = transform)\n",
    "\n",
    "ftrn_load = torch.utils.data.DataLoader(ftrain, batch_size = 100,shuffle = True)\n",
    "ftst_load = torch.utils.data.DataLoader(ftest, batch_size = 100,shuffle = False)\n"
   ]
  },
  {
   "cell_type": "code",
   "execution_count": 7,
   "id": "adc73b18",
   "metadata": {},
   "outputs": [],
   "source": [
    "def training(train_loader,test_loader,model,opti,name,num_epoch,lrr=0.0001,wd=0,save_model=0,m=0.9,py1 = 1,py2=28,py3=28):\n",
    "    t0 = time.time()\n",
    "    if opti ==\"CEL\":\n",
    "        criterion = nn.CrossEntropyLoss()\n",
    "    elif opti ==\"BCE\":\n",
    "        criterion = nn.BCELoss()\n",
    "    optimizer = optim.SGD(model.parameters(),lr=lrr,weight_decay = wd, momentum=m)\n",
    "    \n",
    "    loss_train_array = torch.zeros(num_epoch)\n",
    "    acc_training_array = torch.zeros(num_epoch)\n",
    "    acc_array = torch.zeros(num_epoch)\n",
    "    \n",
    "    i=0\n",
    "    for epoch in range(num_epoch):\n",
    "        correct_t = 0\n",
    "        total_t = 60000\n",
    "        for imgs, labels in ftrn_load:\n",
    "            imgs,labels = imgs.to(device),labels.to(device)\n",
    "            batch_size = imgs.shape[0] #takes image data, puts into 0 x data tensor\n",
    "            outputs = model(imgs)\n",
    "            #outputs = model(imgs.view(batch_size, -1)) unsqueeze(0) adds dimensionality at dimension 0, (0,1)--> (0,1,2) where 1 is the new dimension\n",
    "            loss = criterion(outputs,labels)\n",
    "            optimizer.zero_grad()\n",
    "            loss.backward()\n",
    "            optimizer.step()\n",
    "        with torch.no_grad():\n",
    "            for imgss, labelss in ftrn_load:\n",
    "                imgss,labelss = imgss.to(device),labelss.to(device)\n",
    "                batch_size = imgss.shape[0] # records size of imgs.shape[0]\n",
    "                outputss = model(imgss)\n",
    "                \n",
    "                #outputss = model(imgss.view(batch_size,-1))\n",
    "                _,predictedd = torch.max(outputss,dim=1) #\n",
    "               # total_t += labels.shape[0] #create \n",
    "                correct_t += int((predictedd == labelss).sum()) # if predicted is the answer, add it to sum\n",
    "            #print(correct_t)\n",
    "            #print(total_t)\n",
    "\n",
    "        print(\" Epoch: %d, Loss: %F\" % (epoch, float(loss)))\n",
    "        print(\"Training Accuracy: %f\" % (correct_t / total_t))\n",
    "        loss_train_array[i]=float(loss)\n",
    "        acc_training_array[i]=float(correct_t/total_t)\n",
    "        \n",
    "        correct_v = 0\n",
    "        total_v = 10000\n",
    "        #val_loss_v = 0\n",
    "        \n",
    "        with torch.no_grad():\n",
    "            for imgs, labels in ftst_load:\n",
    "                imgs,labels = imgs.to(device),labels.to(device)\n",
    "                batch_size = imgs.shape[0] # records size of imgs.shape[0]\n",
    "                outputs = model(imgs)\n",
    "                #outputs = model(imgs.view(batch_size,-1)) #predicts output class with model, .view changes shape to be batchsize (1D array)\n",
    "                _,predicted = torch.max(outputs,dim=1) #\n",
    "               # total_v += labels.shape[0] #create \n",
    "                correct_v += int((predicted == labels).sum()) # if predicted is the answer, add it to sum\n",
    "        #print(correct_v)\n",
    "        #print(total_v)\n",
    "        print(\"Validation Accuracy: \", correct_v / total_v)\n",
    "        acc_array[i] = correct_v / total_v\n",
    "        i = i+1\n",
    "    print(f'training time = {time.time()-t0}')\n",
    "    plt.plot(range(num_epoch),loss_train_array,color = 'blue',label ='Training Loss')\n",
    "    plt.plot(range(num_epoch),acc_training_array,color = 'red',label ='Training Accuracy')\n",
    "    plt.plot(range(num_epoch),acc_array,color = 'green',label ='Validation Accuracy')\n",
    "    plt.title(f'Fashionmnist')\n",
    "    plt.xlabel('epoch')\n",
    "    plt.ylabel('Value')\n",
    "    with torch.cuda.device(0):\n",
    "        net = model\n",
    "        macs, params = get_model_complexity_info(net, ( py1, py2, py3), as_strings=True,\n",
    "                                           print_per_layer_stat=True, verbose=True) # 1,28,28 is res of each image\n",
    "        print('{:<30}  {:<8}'.format('Computational complexity: ', macs))\n",
    "        print('{:<30}  {:<8}'.format('Number of parameters: ', params))\n",
    "    if save_model == 1:\n",
    "        torch.save(model.state_dict(), name)"
   ]
  },
  {
   "cell_type": "code",
   "execution_count": 34,
   "id": "44e0881b",
   "metadata": {},
   "outputs": [
    {
     "name": "stderr",
     "output_type": "stream",
     "text": [
      "C:\\Users\\matth\\anaconda3\\envs\\aiclass\\lib\\site-packages\\torch\\nn\\modules\\lazy.py:180: UserWarning: Lazy modules are a new feature under heavy development so changes to the API or functionality can happen at any moment.\n",
      "  warnings.warn('Lazy modules are a new feature under heavy development '\n"
     ]
    },
    {
     "data": {
      "text/plain": [
       "LeNet_original(\n",
       "  (LC0): LazyConv2d(0, 6, kernel_size=(5, 5), stride=(1, 1), padding=(2, 2))\n",
       "  (LC1): LazyConv2d(0, 16, kernel_size=(5, 5), stride=(1, 1), padding=(2, 2))\n",
       "  (max): MaxPool2d(kernel_size=2, stride=2, padding=0, dilation=1, ceil_mode=False)\n",
       "  (flat): Flatten(start_dim=1, end_dim=-1)\n",
       "  (L0): LazyLinear(in_features=0, out_features=120, bias=True)\n",
       "  (L1): LazyLinear(in_features=0, out_features=84, bias=True)\n",
       "  (out): LazyLinear(in_features=0, out_features=10, bias=True)\n",
       "  (sig): Sigmoid()\n",
       "  (relu): ReLU()\n",
       ")"
      ]
     },
     "execution_count": 34,
     "metadata": {},
     "output_type": "execute_result"
    }
   ],
   "source": [
    "class LeNet_original (nn.Module):\n",
    "    def __init__(self):\n",
    "        super().__init__()\n",
    "        self.LC0 = nn.LazyConv2d(6, kernel_size =5,padding=2)\n",
    "        self.LC1 = nn.LazyConv2d(16, kernel_size =5,padding=2)\n",
    "        self.max = nn.MaxPool2d(kernel_size=2, stride=2)\n",
    "        self.flat = nn.Flatten()\n",
    "        self.L0 = nn.LazyLinear(120)\n",
    "        self.L1 = nn.LazyLinear(84)\n",
    "        self.out = nn.LazyLinear(10)\n",
    "        self.sig = nn.Sigmoid()\n",
    "        self.relu = nn.ReLU()\n",
    "    def forward(self, x):\n",
    "        x = self.relu(self.LC0(x))\n",
    "        x = self.max(x)\n",
    "        x = self.relu(self.LC1(x))\n",
    "        x = self.max(x)\n",
    "        x = self.flat(x)\n",
    "        x = self.relu(self.L0(x))\n",
    "        x = self.relu(self.L1(x))\n",
    "        x = self.out(x)\n",
    "        return x\n",
    "LeNet_original = LeNet_original()\n",
    "LeNet_original.to(device)"
   ]
  },
  {
   "cell_type": "code",
   "execution_count": null,
   "id": "1d94f05b",
   "metadata": {},
   "outputs": [
    {
     "name": "stdout",
     "output_type": "stream",
     "text": [
      " Epoch: 0, Loss: 0.300060\n",
      "Training Accuracy: 0.847767\n",
      "Validation Accuracy:  0.8369\n",
      " Epoch: 1, Loss: 0.305880\n",
      "Training Accuracy: 0.873550\n",
      "Validation Accuracy:  0.8555\n",
      " Epoch: 2, Loss: 0.383523\n",
      "Training Accuracy: 0.882867\n",
      "Validation Accuracy:  0.8663\n",
      " Epoch: 3, Loss: 0.263784\n",
      "Training Accuracy: 0.881667\n",
      "Validation Accuracy:  0.8627\n",
      " Epoch: 4, Loss: 0.207600\n",
      "Training Accuracy: 0.885850\n",
      "Validation Accuracy:  0.8666\n",
      " Epoch: 5, Loss: 0.192986\n",
      "Training Accuracy: 0.898200\n",
      "Validation Accuracy:  0.8787\n",
      " Epoch: 6, Loss: 0.352542\n",
      "Training Accuracy: 0.899500\n",
      "Validation Accuracy:  0.8785\n",
      " Epoch: 7, Loss: 0.372260\n",
      "Training Accuracy: 0.898200\n",
      "Validation Accuracy:  0.877\n",
      " Epoch: 8, Loss: 0.258593\n",
      "Training Accuracy: 0.895383\n",
      "Validation Accuracy:  0.8743\n"
     ]
    }
   ],
   "source": [
    "training(ftrn_load,ftst_load,LeNet_original,\"CEL\",\"1A_model\",10,0.1,0,1) # (train,test,model,name,epoch,lr,weightdecay,savemodel(bool))"
   ]
  },
  {
   "cell_type": "code",
   "execution_count": 26,
   "id": "c8a771f4",
   "metadata": {},
   "outputs": [
    {
     "data": {
      "text/plain": [
       "LeNet(\n",
       "  (LC0): Conv2d(1, 6, kernel_size=(5, 5), stride=(1, 1), padding=(2, 2))\n",
       "  (LC1): Conv2d(6, 16, kernel_size=(5, 5), stride=(1, 1), padding=(2, 2))\n",
       "  (LC2): Conv2d(16, 36, kernel_size=(5, 5), stride=(1, 1), padding=(2, 2))\n",
       "  (max): MaxPool2d(kernel_size=2, stride=2, padding=0, dilation=1, ceil_mode=False)\n",
       "  (flat): Flatten(start_dim=1, end_dim=-1)\n",
       "  (L0): Linear(in_features=324, out_features=196, bias=True)\n",
       "  (L1): Linear(in_features=196, out_features=49, bias=True)\n",
       "  (L2): Linear(in_features=40, out_features=20, bias=True)\n",
       "  (out): Linear(in_features=49, out_features=10, bias=True)\n",
       "  (sig): Sigmoid()\n",
       "  (relu): ReLU()\n",
       ")"
      ]
     },
     "execution_count": 26,
     "metadata": {},
     "output_type": "execute_result"
    }
   ],
   "source": [
    "#PROBLEM B1\n",
    "\n",
    "class LeNet (nn.Module):\n",
    "    def __init__(self):\n",
    "        super().__init__()\n",
    "        self.LC0 = nn.Conv2d(1,6, kernel_size =5,padding=2, groups = 1)\n",
    "        self.LC1 = nn.Conv2d(6,16, kernel_size =5,padding=2,groups = 1)\n",
    "        self.LC2 = nn.Conv2d(16,36, kernel_size =5,padding=2, groups = 1)\n",
    "        self.max = nn.MaxPool2d(kernel_size=2, stride=2)\n",
    "        self.flat = nn.Flatten()\n",
    "        self.L0 = nn.Linear(324,196)\n",
    "        self.L1 = nn.Linear(196,49)\n",
    "        #self.L2 = nn.Linear(40,20)\n",
    "        self.out = nn.Linear(49,10)\n",
    "        self.sig = nn.Sigmoid()\n",
    "        self.relu = nn.ReLU()\n",
    "    def forward(self, x):\n",
    "        x = self.relu(self.LC0(x))\n",
    "        x = self.max(x)\n",
    "        x = self.relu(self.LC1(x))\n",
    "        x = self.max(x)\n",
    "        x = self.relu(self.LC2(x))\n",
    "        x = self.max(x)\n",
    "        x = self.flat(x)\n",
    "        x = self.relu(self.L0(x))\n",
    "        x = self.relu(self.L1(x))\n",
    "        #x = self.relu(self.L2(x))\n",
    "        x = self.out(x)\n",
    "        return x\n",
    "LeNet = LeNet()\n",
    "LeNet.to(device)\n",
    "\n"
   ]
  },
  {
   "cell_type": "code",
   "execution_count": 27,
   "id": "25b055e3",
   "metadata": {},
   "outputs": [
    {
     "name": "stdout",
     "output_type": "stream",
     "text": [
      "47878\n",
      "60000\n",
      " Epoch: 0, Loss: 0.499979\n",
      "Training Accuracy: 0.797967\n",
      "7915\n",
      "10000\n",
      "Validation Accuracy:  0.7915\n",
      "51488\n",
      "60000\n",
      " Epoch: 1, Loss: 0.397353\n",
      "Training Accuracy: 0.858133\n",
      "8478\n",
      "10000\n",
      "Validation Accuracy:  0.8478\n",
      "52600\n",
      "60000\n",
      " Epoch: 2, Loss: 0.336601\n",
      "Training Accuracy: 0.876667\n",
      "8662\n",
      "10000\n",
      "Validation Accuracy:  0.8662\n",
      "53358\n",
      "60000\n",
      " Epoch: 3, Loss: 0.298185\n",
      "Training Accuracy: 0.889300\n",
      "8743\n",
      "10000\n",
      "Validation Accuracy:  0.8743\n",
      "53983\n",
      "60000\n",
      " Epoch: 4, Loss: 0.352478\n",
      "Training Accuracy: 0.899717\n",
      "8845\n",
      "10000\n",
      "Validation Accuracy:  0.8845\n",
      "54119\n",
      "60000\n",
      " Epoch: 5, Loss: 0.226771\n",
      "Training Accuracy: 0.901983\n",
      "8847\n",
      "10000\n",
      "Validation Accuracy:  0.8847\n",
      "53982\n",
      "60000\n",
      " Epoch: 6, Loss: 0.228206\n",
      "Training Accuracy: 0.899700\n",
      "8816\n",
      "10000\n",
      "Validation Accuracy:  0.8816\n",
      "54365\n",
      "60000\n",
      " Epoch: 7, Loss: 0.214694\n",
      "Training Accuracy: 0.906083\n",
      "8879\n",
      "10000\n",
      "Validation Accuracy:  0.8879\n",
      "54965\n",
      "60000\n",
      " Epoch: 8, Loss: 0.298171\n",
      "Training Accuracy: 0.916083\n",
      "8932\n",
      "10000\n",
      "Validation Accuracy:  0.8932\n",
      "55354\n",
      "60000\n",
      " Epoch: 9, Loss: 0.178790\n",
      "Training Accuracy: 0.922567\n",
      "8980\n",
      "10000\n",
      "Validation Accuracy:  0.898\n",
      "training time = 175.25320148468018\n",
      "Warning: module Flatten is treated as a zero-op.\n",
      "Warning: module Sigmoid is treated as a zero-op.\n",
      "Warning: module LeNet is treated as a zero-op.\n",
      "LeNet(\n",
      "  91.68 k, 100.000% Params, 1.4 MMac, 100.000% MACs, \n",
      "  (LC0): Conv2d(156, 0.170% Params, 122.3 KMac, 8.758% MACs, 1, 6, kernel_size=(5, 5), stride=(1, 1), padding=(2, 2))\n",
      "  (LC1): Conv2d(2.42 k, 2.635% Params, 473.54 KMac, 33.909% MACs, 6, 16, kernel_size=(5, 5), stride=(1, 1), padding=(2, 2))\n",
      "  (LC2): Conv2d(14.44 k, 15.746% Params, 707.36 KMac, 50.652% MACs, 16, 36, kernel_size=(5, 5), stride=(1, 1), padding=(2, 2))\n",
      "  (max): MaxPool2d(0, 0.000% Params, 9.6 KMac, 0.688% MACs, kernel_size=2, stride=2, padding=0, dilation=1, ceil_mode=False)\n",
      "  (flat): Flatten(0, 0.000% Params, 0.0 Mac, 0.000% MACs, start_dim=1, end_dim=-1)\n",
      "  (L0): Linear(63.7 k, 69.480% Params, 63.7 KMac, 4.561% MACs, in_features=324, out_features=196, bias=True)\n",
      "  (L1): Linear(9.65 k, 10.529% Params, 9.65 KMac, 0.691% MACs, in_features=196, out_features=49, bias=True)\n",
      "  (L2): Linear(820, 0.894% Params, 0.0 Mac, 0.000% MACs, in_features=40, out_features=20, bias=True)\n",
      "  (out): Linear(500, 0.545% Params, 500.0 Mac, 0.036% MACs, in_features=49, out_features=10, bias=True)\n",
      "  (sig): Sigmoid(0, 0.000% Params, 0.0 Mac, 0.000% MACs, )\n",
      "  (relu): ReLU(0, 0.000% Params, 9.85 KMac, 0.705% MACs, )\n",
      ")\n",
      "Computational complexity:       1.4 MMac\n",
      "Number of parameters:           91.68 k \n"
     ]
    },
    {
     "data": {
      "image/png": "[encoded data removed]",
      "text/plain": [
       "<Figure size 432x288 with 1 Axes>"
      ]
     },
     "metadata": {
      "needs_background": "light"
     },
     "output_type": "display_data"
    }
   ],
   "source": [
    "training(ftrn_load,ftst_load,LeNet,\"CEL\",\"1B_model\", 10,0.01,0.0001,1)"
   ]
  },
  {
   "cell_type": "code",
   "execution_count": 30,
   "id": "578c6a48",
   "metadata": {},
   "outputs": [
    {
     "data": {
      "text/plain": [
       "LeNet(\n",
       "  (LC0): Conv2d(1, 6, kernel_size=(5, 5), stride=(1, 1), padding=(2, 2))\n",
       "  (LC1): Conv2d(6, 16, kernel_size=(5, 5), stride=(1, 1), padding=(2, 2))\n",
       "  (max): MaxPool2d(kernel_size=2, stride=2, padding=0, dilation=1, ceil_mode=False)\n",
       "  (flat): Flatten(start_dim=1, end_dim=-1)\n",
       "  (L0): Linear(in_features=784, out_features=196, bias=True)\n",
       "  (L1): Linear(in_features=196, out_features=49, bias=True)\n",
       "  (out): Linear(in_features=49, out_features=10, bias=True)\n",
       "  (sig): Sigmoid()\n",
       "  (relu): ReLU()\n",
       ")"
      ]
     },
     "execution_count": 30,
     "metadata": {},
     "output_type": "execute_result"
    }
   ],
   "source": [
    "# PROBLEM B2\n",
    "\n",
    "class LeNet (nn.Module):\n",
    "    def __init__(self):\n",
    "        super().__init__()\n",
    "        self.LC0 = nn.Conv2d(1,6, kernel_size =5,padding=2, groups = 1)\n",
    "        self.LC1 = nn.Conv2d(6,16, kernel_size =5,padding=2,groups = 1)\n",
    "        #self.LC2 = nn.Conv2d(16,36, kernel_size =5,padding=2, groups = 1)\n",
    "        self.max = nn.MaxPool2d(kernel_size=2, stride=2)\n",
    "        self.flat = nn.Flatten()\n",
    "        self.L0 = nn.Linear(784,196)\n",
    "        self.L1 = nn.Linear(196,49)\n",
    "        #self.L2 = nn.Linear(40,20)\n",
    "        self.out = nn.Linear(49,10)\n",
    "        self.sig = nn.Sigmoid()\n",
    "        self.relu = nn.ReLU()\n",
    "    def forward(self, x):\n",
    "        x = self.relu(self.LC0(x))\n",
    "        x = self.max(x)\n",
    "        x = self.relu(self.LC1(x))\n",
    "        x = self.max(x)\n",
    "        #x = self.relu(self.LC2(x))\n",
    "        #x = self.max(x)\n",
    "        x = self.flat(x)\n",
    "        x = self.relu(self.L0(x))\n",
    "        x = self.relu(self.L1(x))\n",
    "        #x = self.relu(self.L2(x))\n",
    "        x = self.out(x)\n",
    "        return x\n",
    "LeNet = LeNet()\n",
    "LeNet.to(device)"
   ]
  },
  {
   "cell_type": "code",
   "execution_count": 31,
   "id": "ea604005",
   "metadata": {},
   "outputs": [
    {
     "name": "stdout",
     "output_type": "stream",
     "text": [
      "50178\n",
      "60000\n",
      " Epoch: 0, Loss: 0.362786\n",
      "Training Accuracy: 0.836300\n",
      "8315\n",
      "10000\n",
      "Validation Accuracy:  0.8315\n",
      "52005\n",
      "60000\n",
      " Epoch: 1, Loss: 0.277438\n",
      "Training Accuracy: 0.866750\n",
      "8562\n",
      "10000\n",
      "Validation Accuracy:  0.8562\n",
      "52855\n",
      "60000\n",
      " Epoch: 2, Loss: 0.238539\n",
      "Training Accuracy: 0.880917\n",
      "8720\n",
      "10000\n",
      "Validation Accuracy:  0.872\n",
      "53788\n",
      "60000\n",
      " Epoch: 3, Loss: 0.295935\n",
      "Training Accuracy: 0.896467\n",
      "8818\n",
      "10000\n",
      "Validation Accuracy:  0.8818\n",
      "53830\n",
      "60000\n",
      " Epoch: 4, Loss: 0.284499\n",
      "Training Accuracy: 0.897167\n",
      "8816\n",
      "10000\n",
      "Validation Accuracy:  0.8816\n",
      "54548\n",
      "60000\n",
      " Epoch: 5, Loss: 0.165657\n",
      "Training Accuracy: 0.909133\n",
      "8940\n",
      "10000\n",
      "Validation Accuracy:  0.894\n",
      "55132\n",
      "60000\n",
      " Epoch: 6, Loss: 0.128925\n",
      "Training Accuracy: 0.918867\n",
      "9024\n",
      "10000\n",
      "Validation Accuracy:  0.9024\n",
      "54975\n",
      "60000\n",
      " Epoch: 7, Loss: 0.275057\n",
      "Training Accuracy: 0.916250\n",
      "8961\n",
      "10000\n",
      "Validation Accuracy:  0.8961\n",
      "55275\n",
      "60000\n",
      " Epoch: 8, Loss: 0.175408\n",
      "Training Accuracy: 0.921250\n",
      "8985\n",
      "10000\n",
      "Validation Accuracy:  0.8985\n",
      "55845\n",
      "60000\n",
      " Epoch: 9, Loss: 0.194089\n",
      "Training Accuracy: 0.930750\n",
      "9028\n",
      "10000\n",
      "Validation Accuracy:  0.9028\n",
      "training time = 173.86600303649902\n",
      "Warning: module Flatten is treated as a zero-op.\n",
      "Warning: module Sigmoid is treated as a zero-op.\n",
      "Warning: module LeNet is treated as a zero-op.\n",
      "LeNet(\n",
      "  166.59 k, 100.000% Params, 775.78 KMac, 100.000% MACs, \n",
      "  (LC0): Conv2d(156, 0.094% Params, 122.3 KMac, 15.765% MACs, 1, 6, kernel_size=(5, 5), stride=(1, 1), padding=(2, 2))\n",
      "  (LC1): Conv2d(2.42 k, 1.450% Params, 473.54 KMac, 61.040% MACs, 6, 16, kernel_size=(5, 5), stride=(1, 1), padding=(2, 2))\n",
      "  (max): MaxPool2d(0, 0.000% Params, 7.84 KMac, 1.011% MACs, kernel_size=2, stride=2, padding=0, dilation=1, ceil_mode=False)\n",
      "  (flat): Flatten(0, 0.000% Params, 0.0 Mac, 0.000% MACs, start_dim=1, end_dim=-1)\n",
      "  (L0): Linear(153.86 k, 92.361% Params, 153.86 KMac, 19.833% MACs, in_features=784, out_features=196, bias=True)\n",
      "  (L1): Linear(9.65 k, 5.795% Params, 9.65 KMac, 1.244% MACs, in_features=196, out_features=49, bias=True)\n",
      "  (out): Linear(500, 0.300% Params, 500.0 Mac, 0.064% MACs, in_features=49, out_features=10, bias=True)\n",
      "  (sig): Sigmoid(0, 0.000% Params, 0.0 Mac, 0.000% MACs, )\n",
      "  (relu): ReLU(0, 0.000% Params, 8.09 KMac, 1.042% MACs, )\n",
      ")\n",
      "Computational complexity:       775.78 KMac\n",
      "Number of parameters:           166.59 k\n"
     ]
    },
    {
     "data": {
      "image/png": "[encoded data removed]",
      "text/plain": [
       "<Figure size 432x288 with 1 Axes>"
      ]
     },
     "metadata": {
      "needs_background": "light"
     },
     "output_type": "display_data"
    }
   ],
   "source": [
    "training(ftrn_load,ftst_load,LeNet,\"CEL\",\"1B_model\", 10,0.01,0.0001,1)"
   ]
  },
  {
   "cell_type": "code",
   "execution_count": 7,
   "id": "aa1b0b98",
   "metadata": {},
   "outputs": [
    {
     "data": {
      "text/plain": [
       "LeNet(\n",
       "  (LC0): Conv2d(1, 6, kernel_size=(5, 5), stride=(1, 1), padding=(2, 2))\n",
       "  (LC1): Conv2d(6, 12, kernel_size=(5, 5), stride=(1, 1), padding=(2, 2))\n",
       "  (max): MaxPool2d(kernel_size=2, stride=2, padding=0, dilation=1, ceil_mode=False)\n",
       "  (flat): Flatten(start_dim=1, end_dim=-1)\n",
       "  (L0): Linear(in_features=588, out_features=296, bias=True)\n",
       "  (L1): Linear(in_features=296, out_features=149, bias=True)\n",
       "  (L2): Linear(in_features=149, out_features=75, bias=True)\n",
       "  (out): Linear(in_features=75, out_features=10, bias=True)\n",
       "  (sig): Sigmoid()\n",
       "  (relu): ReLU()\n",
       ")"
      ]
     },
     "execution_count": 7,
     "metadata": {},
     "output_type": "execute_result"
    }
   ],
   "source": [
    "# PROBLEM B3\n",
    "\n",
    "class LeNet (nn.Module):\n",
    "    def __init__(self):\n",
    "        super().__init__()\n",
    "        self.LC0 = nn.Conv2d(1,6, kernel_size =5,padding=2, groups = 1)\n",
    "        self.LC1 = nn.Conv2d(6,12, kernel_size =5,padding=2,groups = 1)\n",
    "       \n",
    "        self.max = nn.MaxPool2d(kernel_size=2, stride=2)\n",
    "        self.flat = nn.Flatten()\n",
    "        \n",
    "        self.L0 = nn.Linear(588,296)\n",
    "        self.L1 = nn.Linear(296,149)\n",
    "        self.L2 = nn.Linear(149,75)\n",
    "        self.out = nn.Linear(75,10)\n",
    "        \n",
    "        self.sig = nn.Sigmoid()\n",
    "        self.relu = nn.ReLU()\n",
    "    def forward(self, x):\n",
    "        x = self.relu(self.LC0(x))\n",
    "        x = self.max(x)\n",
    "        x = self.relu(self.LC1(x))\n",
    "        x = self.max(x)\n",
    "        x = self.flat(x)\n",
    "        x = self.relu(self.L0(x))\n",
    "        x = self.relu(self.L1(x))\n",
    "        x = self.relu(self.L2(x))\n",
    "        x = self.out(x)\n",
    "        return x\n",
    "LeNet = LeNet()\n",
    "LeNet.to(device)"
   ]
  },
  {
   "cell_type": "code",
   "execution_count": 64,
   "id": "f1967c17",
   "metadata": {},
   "outputs": [
    {
     "name": "stdout",
     "output_type": "stream",
     "text": [
      " Epoch: 0, Loss: 0.135459\n",
      "Training Accuracy: 0.937000\n",
      "Validation Accuracy:  0.9131\n",
      " Epoch: 1, Loss: 0.150064\n",
      "Training Accuracy: 0.937883\n",
      "Validation Accuracy:  0.9126\n",
      " Epoch: 2, Loss: 0.238176\n",
      "Training Accuracy: 0.939350\n",
      "Validation Accuracy:  0.9126\n",
      " Epoch: 3, Loss: 0.142414\n",
      "Training Accuracy: 0.940583\n",
      "Validation Accuracy:  0.9139\n",
      " Epoch: 4, Loss: 0.172382\n",
      "Training Accuracy: 0.941850\n",
      "Validation Accuracy:  0.9139\n",
      " Epoch: 5, Loss: 0.073973\n",
      "Training Accuracy: 0.942117\n",
      "Validation Accuracy:  0.9144\n",
      " Epoch: 6, Loss: 0.127705\n",
      "Training Accuracy: 0.944083\n",
      "Validation Accuracy:  0.9154\n",
      " Epoch: 7, Loss: 0.188982\n",
      "Training Accuracy: 0.944767\n",
      "Validation Accuracy:  0.9144\n",
      " Epoch: 8, Loss: 0.158631\n",
      "Training Accuracy: 0.944633\n",
      "Validation Accuracy:  0.9143\n",
      " Epoch: 9, Loss: 0.125285\n",
      "Training Accuracy: 0.946617\n",
      "Validation Accuracy:  0.9162\n",
      "training time = 177.81541180610657\n",
      "Warning: module Flatten is treated as a zero-op.\n",
      "Warning: module Sigmoid is treated as a zero-op.\n",
      "Warning: module LeNet is treated as a zero-op.\n",
      "LeNet(\n",
      "  232.57 k, 100.000% Params, 722.7 KMac, 100.000% MACs, \n",
      "  (LC0): Conv2d(156, 0.067% Params, 122.3 KMac, 16.923% MACs, 1, 6, kernel_size=(5, 5), stride=(1, 1), padding=(2, 2))\n",
      "  (LC1): Conv2d(1.81 k, 0.779% Params, 355.15 KMac, 49.143% MACs, 6, 12, kernel_size=(5, 5), stride=(1, 1), padding=(2, 2))\n",
      "  (max): MaxPool2d(0, 0.000% Params, 7.06 KMac, 0.976% MACs, kernel_size=2, stride=2, padding=0, dilation=1, ceil_mode=False)\n",
      "  (flat): Flatten(0, 0.000% Params, 0.0 Mac, 0.000% MACs, start_dim=1, end_dim=-1)\n",
      "  (L0): Linear(174.34 k, 74.962% Params, 174.34 KMac, 24.124% MACs, in_features=588, out_features=296, bias=True)\n",
      "  (L1): Linear(44.25 k, 19.027% Params, 44.25 KMac, 6.123% MACs, in_features=296, out_features=149, bias=True)\n",
      "  (L2): Linear(11.25 k, 4.837% Params, 11.25 KMac, 1.557% MACs, in_features=149, out_features=75, bias=True)\n",
      "  (out): Linear(760, 0.327% Params, 760.0 Mac, 0.105% MACs, in_features=75, out_features=10, bias=True)\n",
      "  (sig): Sigmoid(0, 0.000% Params, 0.0 Mac, 0.000% MACs, )\n",
      "  (relu): ReLU(0, 0.000% Params, 7.58 KMac, 1.048% MACs, )\n",
      ")\n",
      "Computational complexity:       722.7 KMac\n",
      "Number of parameters:           232.57 k\n"
     ]
    },
    {
     "data": {
      "image/png": "[encoded data removed]",
      "text/plain": [
       "<Figure size 432x288 with 1 Axes>"
      ]
     },
     "metadata": {
      "needs_background": "light"
     },
     "output_type": "display_data"
    }
   ],
   "source": [
    "training(ftrn_load,ftst_load,LeNet,\"CEL\",\"1B_model\", 10,0.01,0.0001,0)"
   ]
  },
  {
   "cell_type": "code",
   "execution_count": 68,
   "id": "dacd406c",
   "metadata": {},
   "outputs": [
    {
     "data": {
      "text/plain": [
       "LeNet_drop(\n",
       "  (LC0): Conv2d(1, 6, kernel_size=(5, 5), stride=(1, 1), padding=(2, 2))\n",
       "  (LC1): Conv2d(6, 12, kernel_size=(5, 5), stride=(1, 1), padding=(2, 2))\n",
       "  (max): MaxPool2d(kernel_size=2, stride=2, padding=0, dilation=1, ceil_mode=False)\n",
       "  (flat): Flatten(start_dim=1, end_dim=-1)\n",
       "  (L0): Linear(in_features=588, out_features=296, bias=True)\n",
       "  (L1): Linear(in_features=296, out_features=149, bias=True)\n",
       "  (L2): Linear(in_features=149, out_features=75, bias=True)\n",
       "  (out): Linear(in_features=75, out_features=10, bias=True)\n",
       "  (sig): Sigmoid()\n",
       "  (relu): ReLU()\n",
       "  (drop1): Dropout(p=0.5, inplace=False)\n",
       "  (drop2): Dropout(p=0.5, inplace=False)\n",
       ")"
      ]
     },
     "execution_count": 68,
     "metadata": {},
     "output_type": "execute_result"
    }
   ],
   "source": [
    "class LeNet_drop (nn.Module):\n",
    "    def __init__(self):\n",
    "        super().__init__()\n",
    "        self.LC0 = nn.Conv2d(1,6, kernel_size =5,padding=2, groups = 1)\n",
    "        self.LC1 = nn.Conv2d(6,12, kernel_size =5,padding=2,groups = 1)\n",
    "        \n",
    "        self.max = nn.MaxPool2d(kernel_size=2, stride=2)\n",
    "        self.flat = nn.Flatten()\n",
    "        self.L0 = nn.Linear(588,296)\n",
    "        self.L1 = nn.Linear(296,149)\n",
    "        self.L2 = nn.Linear(149,75)\n",
    "        self.out = nn.Linear(75,10)\n",
    "        self.sig = nn.Sigmoid()\n",
    "        self.relu = nn.ReLU()\n",
    "        self.drop1 = nn.Dropout(0.5)\n",
    "        self.drop2 = nn.Dropout(0.5)\n",
    "    def forward(self, x):\n",
    "        x = self.relu(self.LC0(x))\n",
    "        x = self.max(x)\n",
    "        x = self.relu(self.LC1(x))\n",
    "        x = self.max(x)\n",
    "        x = self.flat(x)\n",
    "        x = self.relu(self.L0(x))\n",
    "        x = self.drop1(x)\n",
    "        x = self.relu(self.L1(x))\n",
    "        x = self.drop2(x)\n",
    "        x = self.relu(self.L2(x))\n",
    "        x = self.out(x)\n",
    "        return x\n",
    "LeNet_drop = LeNet_drop()\n",
    "LeNet_drop.to(device)"
   ]
  },
  {
   "cell_type": "code",
   "execution_count": 70,
   "id": "7310aa45",
   "metadata": {},
   "outputs": [
    {
     "name": "stdout",
     "output_type": "stream",
     "text": [
      " Epoch: 0, Loss: 0.159196\n",
      "Training Accuracy: 0.918600\n",
      "Validation Accuracy:  0.8953\n",
      " Epoch: 1, Loss: 0.296273\n",
      "Training Accuracy: 0.929567\n",
      "Validation Accuracy:  0.9047\n",
      " Epoch: 2, Loss: 0.189184\n",
      "Training Accuracy: 0.934667\n",
      "Validation Accuracy:  0.9036\n",
      " Epoch: 3, Loss: 0.138516\n",
      "Training Accuracy: 0.937250\n",
      "Validation Accuracy:  0.9039\n",
      " Epoch: 4, Loss: 0.104706\n",
      "Training Accuracy: 0.943717\n",
      "Validation Accuracy:  0.9063\n",
      " Epoch: 5, Loss: 0.225670\n",
      "Training Accuracy: 0.950683\n",
      "Validation Accuracy:  0.9076\n",
      " Epoch: 6, Loss: 0.160955\n",
      "Training Accuracy: 0.948933\n",
      "Validation Accuracy:  0.9007\n",
      " Epoch: 7, Loss: 0.056393\n",
      "Training Accuracy: 0.954500\n",
      "Validation Accuracy:  0.907\n",
      " Epoch: 8, Loss: 0.098671\n",
      "Training Accuracy: 0.958550\n",
      "Validation Accuracy:  0.9039\n",
      " Epoch: 9, Loss: 0.203518\n",
      "Training Accuracy: 0.959533\n",
      "Validation Accuracy:  0.9051\n",
      "training time = 180.1599462032318\n",
      "Warning: module Flatten is treated as a zero-op.\n",
      "Warning: module Sigmoid is treated as a zero-op.\n",
      "Warning: module Dropout is treated as a zero-op.\n",
      "Warning: module LeNet_drop is treated as a zero-op.\n",
      "LeNet_drop(\n",
      "  232.57 k, 100.000% Params, 722.7 KMac, 100.000% MACs, \n",
      "  (LC0): Conv2d(156, 0.067% Params, 122.3 KMac, 16.923% MACs, 1, 6, kernel_size=(5, 5), stride=(1, 1), padding=(2, 2))\n",
      "  (LC1): Conv2d(1.81 k, 0.779% Params, 355.15 KMac, 49.143% MACs, 6, 12, kernel_size=(5, 5), stride=(1, 1), padding=(2, 2))\n",
      "  (max): MaxPool2d(0, 0.000% Params, 7.06 KMac, 0.976% MACs, kernel_size=2, stride=2, padding=0, dilation=1, ceil_mode=False)\n",
      "  (flat): Flatten(0, 0.000% Params, 0.0 Mac, 0.000% MACs, start_dim=1, end_dim=-1)\n",
      "  (L0): Linear(174.34 k, 74.962% Params, 174.34 KMac, 24.124% MACs, in_features=588, out_features=296, bias=True)\n",
      "  (L1): Linear(44.25 k, 19.027% Params, 44.25 KMac, 6.123% MACs, in_features=296, out_features=149, bias=True)\n",
      "  (L2): Linear(11.25 k, 4.837% Params, 11.25 KMac, 1.557% MACs, in_features=149, out_features=75, bias=True)\n",
      "  (out): Linear(760, 0.327% Params, 760.0 Mac, 0.105% MACs, in_features=75, out_features=10, bias=True)\n",
      "  (sig): Sigmoid(0, 0.000% Params, 0.0 Mac, 0.000% MACs, )\n",
      "  (relu): ReLU(0, 0.000% Params, 7.58 KMac, 1.048% MACs, )\n",
      "  (drop1): Dropout(0, 0.000% Params, 0.0 Mac, 0.000% MACs, p=0.5, inplace=False)\n",
      "  (drop2): Dropout(0, 0.000% Params, 0.0 Mac, 0.000% MACs, p=0.5, inplace=False)\n",
      ")\n",
      "Computational complexity:       722.7 KMac\n",
      "Number of parameters:           232.57 k\n"
     ]
    },
    {
     "data": {
      "image/png": "[encoded data removed]",
      "text/plain": [
       "<Figure size 432x288 with 1 Axes>"
      ]
     },
     "metadata": {
      "needs_background": "light"
     },
     "output_type": "display_data"
    }
   ],
   "source": [
    "#p3\n",
    "training(ftrn_load,ftst_load,LeNet_drop,\"CEL\",\"1C_model\",10,0.01,0.0001,1)"
   ]
  },
  {
   "cell_type": "code",
   "execution_count": 17,
   "id": "648e915b",
   "metadata": {},
   "outputs": [],
   "source": [
    "Atransform = transforms.Compose([\n",
    "        transforms.Resize((227,227)),\n",
    "        transforms.ToTensor(),\n",
    "        transforms.Normalize((0.1307,), (0.3081,))\n",
    "    ])\n",
    "ftrain = torchvision.datasets.FashionMNIST(\"./Data\",download=True,transform = Atransform)\n",
    "ftest =  torchvision.datasets.FashionMNIST(\"./Data\", download=True, train=False, transform = Atransform)\n",
    "\n",
    "ftrn_load = torch.utils.data.DataLoader(ftrain, batch_size = 100,shuffle = True)\n",
    "ftst_load = torch.utils.data.DataLoader(ftest, batch_size = 100,shuffle = True)"
   ]
  },
  {
   "cell_type": "code",
   "execution_count": 29,
   "id": "61d7c5a0",
   "metadata": {},
   "outputs": [
    {
     "data": {
      "text/plain": [
       "AlexNet(\n",
       "  (C0): Conv2d(1, 24, kernel_size=(11, 11), stride=(4, 4))\n",
       "  (C1): Conv2d(24, 64, kernel_size=(5, 5), stride=(1, 1), padding=(2, 2))\n",
       "  (C2): Conv2d(64, 96, kernel_size=(3, 3), stride=(1, 1), padding=(1, 1))\n",
       "  (C4): Conv2d(96, 32, kernel_size=(3, 3), stride=(1, 1), padding=(1, 1))\n",
       "  (max): MaxPool2d(kernel_size=3, stride=2, padding=0, dilation=1, ceil_mode=False)\n",
       "  (flat): Flatten(start_dim=1, end_dim=-1)\n",
       "  (L0): Linear(in_features=1152, out_features=509, bias=True)\n",
       "  (L1): Linear(in_features=509, out_features=102, bias=True)\n",
       "  (out): Linear(in_features=102, out_features=10, bias=True)\n",
       "  (relu): ReLU()\n",
       "  (drop1): Dropout(p=0.5, inplace=False)\n",
       ")"
      ]
     },
     "execution_count": 29,
     "metadata": {},
     "output_type": "execute_result"
    }
   ],
   "source": [
    "#p4 ALEX\n",
    "\n",
    "class AlexNet(nn.Module):\n",
    "    def __init__(self):\n",
    "        super().__init__()\n",
    "        self.C0 = nn.Conv2d(1, 24, kernel_size=11, stride=4, padding=1)\n",
    "        self.C1 = nn.Conv2d(24,64,kernel_size=5,padding=2)\n",
    "        self.C2 = nn.Conv2d(64,96,kernel_size=3,padding=1)\n",
    "        #self.C3 = nn.Conv2d(96,96,kernel_size=3,padding=1)\n",
    "        self.C4 = nn.Conv2d(96,32,kernel_size=3,padding=1)\n",
    "        \n",
    "        self.max=nn.MaxPool2d(kernel_size = 3, stride = 2)\n",
    "        self.flat = nn.Flatten()\n",
    "        \n",
    "        self.L0 = nn.Linear(32*6*6,509)\n",
    "        self.L1 = nn.Linear(509,102)\n",
    "        self.out = nn.Linear(102,10)\n",
    "        \n",
    "        \n",
    "        self.relu=nn.ReLU()\n",
    "        self.drop1 = nn.Dropout(0.5)\n",
    "        \n",
    "    def forward(self, x):\n",
    "        x = self.relu(self.C0(x))\n",
    "        x = self.max(x)\n",
    "        x = self.relu(self.C1(x))\n",
    "        x = self.max(x)\n",
    "        x = self.relu(self.C2(x))\n",
    "        #x = self.relu(self.C3(x))\n",
    "        x = self.relu(self.C4(x))\n",
    "        x = self.max(x)\n",
    "        x = self.flat(x)\n",
    "        x = self.relu(self.L0(x))\n",
    "        x = self.drop1(x)\n",
    "        x = self.relu(self.L1(x))\n",
    "        x = self.drop1(x)\n",
    "        x = self.out(x)\n",
    "        return x\n",
    "AlexNet = AlexNet()\n",
    "AlexNet.to(device)\n",
    "\n"
   ]
  },
  {
   "cell_type": "code",
   "execution_count": 31,
   "id": "38e2f838",
   "metadata": {},
   "outputs": [
    {
     "name": "stdout",
     "output_type": "stream",
     "text": [
      " Epoch: 0, Loss: 0.324243\n",
      "Training Accuracy: 0.837150\n",
      "Validation Accuracy:  0.8286\n",
      " Epoch: 1, Loss: 0.258973\n",
      "Training Accuracy: 0.864233\n",
      "Validation Accuracy:  0.8525\n",
      " Epoch: 2, Loss: 0.188174\n",
      "Training Accuracy: 0.869100\n",
      "Validation Accuracy:  0.8601\n",
      " Epoch: 3, Loss: 0.316767\n",
      "Training Accuracy: 0.894167\n",
      "Validation Accuracy:  0.8843\n",
      " Epoch: 4, Loss: 0.222248\n",
      "Training Accuracy: 0.904450\n",
      "Validation Accuracy:  0.8932\n",
      " Epoch: 5, Loss: 0.451734\n",
      "Training Accuracy: 0.912367\n",
      "Validation Accuracy:  0.898\n",
      " Epoch: 6, Loss: 0.202080\n",
      "Training Accuracy: 0.914667\n",
      "Validation Accuracy:  0.9013\n",
      " Epoch: 7, Loss: 0.141247\n",
      "Training Accuracy: 0.919133\n",
      "Validation Accuracy:  0.9043\n",
      " Epoch: 8, Loss: 0.275051\n",
      "Training Accuracy: 0.923517\n",
      "Validation Accuracy:  0.9043\n",
      " Epoch: 9, Loss: 0.271827\n",
      "Training Accuracy: 0.929517\n",
      "Validation Accuracy:  0.9104\n",
      "training time = 855.8551740646362\n",
      "Warning: module Flatten is treated as a zero-op.\n",
      "Warning: module Dropout is treated as a zero-op.\n",
      "Warning: module AlexNet is treated as a zero-op.\n"
     ]
    },
    {
     "ename": "RuntimeError",
     "evalue": "Given input size: (24x1x1). Calculated output size: (24x0x0). Output size is too small",
     "output_type": "error",
     "traceback": [
      "\u001b[1;31m---------------------------------------------------------------------------\u001b[0m",
      "\u001b[1;31mRuntimeError\u001b[0m                              Traceback (most recent call last)",
      "Input \u001b[1;32mIn [31]\u001b[0m, in \u001b[0;36m<cell line: 1>\u001b[1;34m()\u001b[0m\n\u001b[1;32m----> 1\u001b[0m \u001b[43mtraining\u001b[49m\u001b[43m(\u001b[49m\u001b[43mftrn_load\u001b[49m\u001b[43m,\u001b[49m\u001b[43mftst_load\u001b[49m\u001b[43m,\u001b[49m\u001b[43mAlexNet\u001b[49m\u001b[43m,\u001b[49m\u001b[38;5;124;43m\"\u001b[39;49m\u001b[38;5;124;43mCEL\u001b[39;49m\u001b[38;5;124;43m\"\u001b[39;49m\u001b[43m,\u001b[49m\u001b[38;5;124;43m\"\u001b[39;49m\u001b[38;5;124;43mP4_model\u001b[39;49m\u001b[38;5;124;43m\"\u001b[39;49m\u001b[43m,\u001b[49m\u001b[38;5;241;43m10\u001b[39;49m\u001b[43m,\u001b[49m\u001b[38;5;241;43m0.01\u001b[39;49m\u001b[43m,\u001b[49m\u001b[38;5;241;43m0.0001\u001b[39;49m\u001b[43m,\u001b[49m\u001b[38;5;241;43m1\u001b[39;49m\u001b[43m,\u001b[49m\u001b[38;5;241;43m0.9\u001b[39;49m\u001b[43m,\u001b[49m\u001b[38;5;241;43m1\u001b[39;49m\u001b[43m,\u001b[49m\u001b[38;5;241;43m11\u001b[39;49m\u001b[43m,\u001b[49m\u001b[38;5;241;43m11\u001b[39;49m\u001b[43m)\u001b[49m\n",
      "Input \u001b[1;32mIn [7]\u001b[0m, in \u001b[0;36mtraining\u001b[1;34m(train_loader, test_loader, model, opti, name, num_epoch, lrr, wd, save_model, m, py1, py2, py3)\u001b[0m\n\u001b[0;32m     69\u001b[0m \u001b[38;5;28;01mwith\u001b[39;00m torch\u001b[38;5;241m.\u001b[39mcuda\u001b[38;5;241m.\u001b[39mdevice(\u001b[38;5;241m0\u001b[39m):\n\u001b[0;32m     70\u001b[0m     net \u001b[38;5;241m=\u001b[39m model\n\u001b[1;32m---> 71\u001b[0m     macs, params \u001b[38;5;241m=\u001b[39m \u001b[43mget_model_complexity_info\u001b[49m\u001b[43m(\u001b[49m\u001b[43mnet\u001b[49m\u001b[43m,\u001b[49m\u001b[43m \u001b[49m\u001b[43m(\u001b[49m\u001b[43m \u001b[49m\u001b[43mpy1\u001b[49m\u001b[43m,\u001b[49m\u001b[43m \u001b[49m\u001b[43mpy2\u001b[49m\u001b[43m,\u001b[49m\u001b[43m \u001b[49m\u001b[43mpy3\u001b[49m\u001b[43m)\u001b[49m\u001b[43m,\u001b[49m\u001b[43m \u001b[49m\u001b[43mas_strings\u001b[49m\u001b[38;5;241;43m=\u001b[39;49m\u001b[38;5;28;43;01mTrue\u001b[39;49;00m\u001b[43m,\u001b[49m\n\u001b[0;32m     72\u001b[0m \u001b[43m                                       \u001b[49m\u001b[43mprint_per_layer_stat\u001b[49m\u001b[38;5;241;43m=\u001b[39;49m\u001b[38;5;28;43;01mTrue\u001b[39;49;00m\u001b[43m,\u001b[49m\u001b[43m \u001b[49m\u001b[43mverbose\u001b[49m\u001b[38;5;241;43m=\u001b[39;49m\u001b[38;5;28;43;01mTrue\u001b[39;49;00m\u001b[43m)\u001b[49m \u001b[38;5;66;03m# 1,28,28 is res of each image\u001b[39;00m\n\u001b[0;32m     73\u001b[0m     \u001b[38;5;28mprint\u001b[39m(\u001b[38;5;124m'\u001b[39m\u001b[38;5;132;01m{:<30}\u001b[39;00m\u001b[38;5;124m  \u001b[39m\u001b[38;5;132;01m{:<8}\u001b[39;00m\u001b[38;5;124m'\u001b[39m\u001b[38;5;241m.\u001b[39mformat(\u001b[38;5;124m'\u001b[39m\u001b[38;5;124mComputational complexity: \u001b[39m\u001b[38;5;124m'\u001b[39m, macs))\n\u001b[0;32m     74\u001b[0m     \u001b[38;5;28mprint\u001b[39m(\u001b[38;5;124m'\u001b[39m\u001b[38;5;132;01m{:<30}\u001b[39;00m\u001b[38;5;124m  \u001b[39m\u001b[38;5;132;01m{:<8}\u001b[39;00m\u001b[38;5;124m'\u001b[39m\u001b[38;5;241m.\u001b[39mformat(\u001b[38;5;124m'\u001b[39m\u001b[38;5;124mNumber of parameters: \u001b[39m\u001b[38;5;124m'\u001b[39m, params))\n",
      "File \u001b[1;32m~\\anaconda3\\envs\\aiclass\\lib\\site-packages\\ptflops\\flops_counter.py:30\u001b[0m, in \u001b[0;36mget_model_complexity_info\u001b[1;34m(model, input_res, print_per_layer_stat, as_strings, input_constructor, ost, verbose, ignore_modules, custom_modules_hooks, backend, flops_units, param_units, output_precision)\u001b[0m\n\u001b[0;32m     27\u001b[0m \u001b[38;5;28;01massert\u001b[39;00m \u001b[38;5;28misinstance\u001b[39m(model, nn\u001b[38;5;241m.\u001b[39mModule)\n\u001b[0;32m     29\u001b[0m \u001b[38;5;28;01mif\u001b[39;00m backend \u001b[38;5;241m==\u001b[39m \u001b[38;5;124m'\u001b[39m\u001b[38;5;124mpytorch\u001b[39m\u001b[38;5;124m'\u001b[39m:\n\u001b[1;32m---> 30\u001b[0m     flops_count, params_count \u001b[38;5;241m=\u001b[39m \u001b[43mget_flops_pytorch\u001b[49m\u001b[43m(\u001b[49m\u001b[43mmodel\u001b[49m\u001b[43m,\u001b[49m\u001b[43m \u001b[49m\u001b[43minput_res\u001b[49m\u001b[43m,\u001b[49m\n\u001b[0;32m     31\u001b[0m \u001b[43m                                                  \u001b[49m\u001b[43mprint_per_layer_stat\u001b[49m\u001b[43m,\u001b[49m\n\u001b[0;32m     32\u001b[0m \u001b[43m                                                  \u001b[49m\u001b[43minput_constructor\u001b[49m\u001b[43m,\u001b[49m\u001b[43m \u001b[49m\u001b[43most\u001b[49m\u001b[43m,\u001b[49m\n\u001b[0;32m     33\u001b[0m \u001b[43m                                                  \u001b[49m\u001b[43mverbose\u001b[49m\u001b[43m,\u001b[49m\u001b[43m \u001b[49m\u001b[43mignore_modules\u001b[49m\u001b[43m,\u001b[49m\n\u001b[0;32m     34\u001b[0m \u001b[43m                                                  \u001b[49m\u001b[43mcustom_modules_hooks\u001b[49m\u001b[43m,\u001b[49m\n\u001b[0;32m     35\u001b[0m \u001b[43m                                                  \u001b[49m\u001b[43moutput_precision\u001b[49m\u001b[38;5;241;43m=\u001b[39;49m\u001b[43moutput_precision\u001b[49m\u001b[43m,\u001b[49m\n\u001b[0;32m     36\u001b[0m \u001b[43m                                                  \u001b[49m\u001b[43mflops_units\u001b[49m\u001b[38;5;241;43m=\u001b[39;49m\u001b[43mflops_units\u001b[49m\u001b[43m,\u001b[49m\n\u001b[0;32m     37\u001b[0m \u001b[43m                                                  \u001b[49m\u001b[43mparam_units\u001b[49m\u001b[38;5;241;43m=\u001b[39;49m\u001b[43mparam_units\u001b[49m\u001b[43m)\u001b[49m\n\u001b[0;32m     38\u001b[0m \u001b[38;5;28;01melse\u001b[39;00m:\n\u001b[0;32m     39\u001b[0m     \u001b[38;5;28;01mraise\u001b[39;00m \u001b[38;5;167;01mValueError\u001b[39;00m(\u001b[38;5;124m'\u001b[39m\u001b[38;5;124mWrong backend name\u001b[39m\u001b[38;5;124m'\u001b[39m)\n",
      "File \u001b[1;32m~\\anaconda3\\envs\\aiclass\\lib\\site-packages\\ptflops\\pytorch_engine.py:44\u001b[0m, in \u001b[0;36mget_flops_pytorch\u001b[1;34m(model, input_res, print_per_layer_stat, input_constructor, ost, verbose, ignore_modules, custom_modules_hooks, output_precision, flops_units, param_units)\u001b[0m\n\u001b[0;32m     41\u001b[0m     \u001b[38;5;28;01mexcept\u001b[39;00m \u001b[38;5;167;01mStopIteration\u001b[39;00m:\n\u001b[0;32m     42\u001b[0m         batch \u001b[38;5;241m=\u001b[39m torch\u001b[38;5;241m.\u001b[39mones(())\u001b[38;5;241m.\u001b[39mnew_empty((\u001b[38;5;241m1\u001b[39m, \u001b[38;5;241m*\u001b[39minput_res))\n\u001b[1;32m---> 44\u001b[0m     _ \u001b[38;5;241m=\u001b[39m \u001b[43mflops_model\u001b[49m\u001b[43m(\u001b[49m\u001b[43mbatch\u001b[49m\u001b[43m)\u001b[49m\n\u001b[0;32m     46\u001b[0m flops_count, params_count \u001b[38;5;241m=\u001b[39m flops_model\u001b[38;5;241m.\u001b[39mcompute_average_flops_cost()\n\u001b[0;32m     47\u001b[0m \u001b[38;5;28;01mif\u001b[39;00m print_per_layer_stat:\n",
      "File \u001b[1;32m~\\anaconda3\\envs\\aiclass\\lib\\site-packages\\torch\\nn\\modules\\module.py:1208\u001b[0m, in \u001b[0;36mModule._call_impl\u001b[1;34m(self, *input, **kwargs)\u001b[0m\n\u001b[0;32m   1205\u001b[0m     bw_hook \u001b[38;5;241m=\u001b[39m hooks\u001b[38;5;241m.\u001b[39mBackwardHook(\u001b[38;5;28mself\u001b[39m, full_backward_hooks)\n\u001b[0;32m   1206\u001b[0m     \u001b[38;5;28minput\u001b[39m \u001b[38;5;241m=\u001b[39m bw_hook\u001b[38;5;241m.\u001b[39msetup_input_hook(\u001b[38;5;28minput\u001b[39m)\n\u001b[1;32m-> 1208\u001b[0m result \u001b[38;5;241m=\u001b[39m forward_call(\u001b[38;5;241m*\u001b[39m\u001b[38;5;28minput\u001b[39m, \u001b[38;5;241m*\u001b[39m\u001b[38;5;241m*\u001b[39mkwargs)\n\u001b[0;32m   1209\u001b[0m \u001b[38;5;28;01mif\u001b[39;00m _global_forward_hooks \u001b[38;5;129;01mor\u001b[39;00m \u001b[38;5;28mself\u001b[39m\u001b[38;5;241m.\u001b[39m_forward_hooks:\n\u001b[0;32m   1210\u001b[0m     \u001b[38;5;28;01mfor\u001b[39;00m hook \u001b[38;5;129;01min\u001b[39;00m (\u001b[38;5;241m*\u001b[39m_global_forward_hooks\u001b[38;5;241m.\u001b[39mvalues(), \u001b[38;5;241m*\u001b[39m\u001b[38;5;28mself\u001b[39m\u001b[38;5;241m.\u001b[39m_forward_hooks\u001b[38;5;241m.\u001b[39mvalues()):\n",
      "Input \u001b[1;32mIn [29]\u001b[0m, in \u001b[0;36mAlexNet.forward\u001b[1;34m(self, x)\u001b[0m\n\u001b[0;32m     23\u001b[0m \u001b[38;5;28;01mdef\u001b[39;00m \u001b[38;5;21mforward\u001b[39m(\u001b[38;5;28mself\u001b[39m, x):\n\u001b[0;32m     24\u001b[0m     x \u001b[38;5;241m=\u001b[39m \u001b[38;5;28mself\u001b[39m\u001b[38;5;241m.\u001b[39mrelu(\u001b[38;5;28mself\u001b[39m\u001b[38;5;241m.\u001b[39mC0(x))\n\u001b[1;32m---> 25\u001b[0m     x \u001b[38;5;241m=\u001b[39m \u001b[38;5;28;43mself\u001b[39;49m\u001b[38;5;241;43m.\u001b[39;49m\u001b[43mmax\u001b[49m\u001b[43m(\u001b[49m\u001b[43mx\u001b[49m\u001b[43m)\u001b[49m\n\u001b[0;32m     26\u001b[0m     x \u001b[38;5;241m=\u001b[39m \u001b[38;5;28mself\u001b[39m\u001b[38;5;241m.\u001b[39mrelu(\u001b[38;5;28mself\u001b[39m\u001b[38;5;241m.\u001b[39mC1(x))\n\u001b[0;32m     27\u001b[0m     x \u001b[38;5;241m=\u001b[39m \u001b[38;5;28mself\u001b[39m\u001b[38;5;241m.\u001b[39mmax(x)\n",
      "File \u001b[1;32m~\\anaconda3\\envs\\aiclass\\lib\\site-packages\\torch\\nn\\modules\\module.py:1208\u001b[0m, in \u001b[0;36mModule._call_impl\u001b[1;34m(self, *input, **kwargs)\u001b[0m\n\u001b[0;32m   1205\u001b[0m     bw_hook \u001b[38;5;241m=\u001b[39m hooks\u001b[38;5;241m.\u001b[39mBackwardHook(\u001b[38;5;28mself\u001b[39m, full_backward_hooks)\n\u001b[0;32m   1206\u001b[0m     \u001b[38;5;28minput\u001b[39m \u001b[38;5;241m=\u001b[39m bw_hook\u001b[38;5;241m.\u001b[39msetup_input_hook(\u001b[38;5;28minput\u001b[39m)\n\u001b[1;32m-> 1208\u001b[0m result \u001b[38;5;241m=\u001b[39m forward_call(\u001b[38;5;241m*\u001b[39m\u001b[38;5;28minput\u001b[39m, \u001b[38;5;241m*\u001b[39m\u001b[38;5;241m*\u001b[39mkwargs)\n\u001b[0;32m   1209\u001b[0m \u001b[38;5;28;01mif\u001b[39;00m _global_forward_hooks \u001b[38;5;129;01mor\u001b[39;00m \u001b[38;5;28mself\u001b[39m\u001b[38;5;241m.\u001b[39m_forward_hooks:\n\u001b[0;32m   1210\u001b[0m     \u001b[38;5;28;01mfor\u001b[39;00m hook \u001b[38;5;129;01min\u001b[39;00m (\u001b[38;5;241m*\u001b[39m_global_forward_hooks\u001b[38;5;241m.\u001b[39mvalues(), \u001b[38;5;241m*\u001b[39m\u001b[38;5;28mself\u001b[39m\u001b[38;5;241m.\u001b[39m_forward_hooks\u001b[38;5;241m.\u001b[39mvalues()):\n",
      "File \u001b[1;32m~\\anaconda3\\envs\\aiclass\\lib\\site-packages\\torch\\nn\\modules\\pooling.py:166\u001b[0m, in \u001b[0;36mMaxPool2d.forward\u001b[1;34m(self, input)\u001b[0m\n\u001b[0;32m    165\u001b[0m \u001b[38;5;28;01mdef\u001b[39;00m \u001b[38;5;21mforward\u001b[39m(\u001b[38;5;28mself\u001b[39m, \u001b[38;5;28minput\u001b[39m: Tensor):\n\u001b[1;32m--> 166\u001b[0m     \u001b[38;5;28;01mreturn\u001b[39;00m \u001b[43mF\u001b[49m\u001b[38;5;241;43m.\u001b[39;49m\u001b[43mmax_pool2d\u001b[49m\u001b[43m(\u001b[49m\u001b[38;5;28;43minput\u001b[39;49m\u001b[43m,\u001b[49m\u001b[43m \u001b[49m\u001b[38;5;28;43mself\u001b[39;49m\u001b[38;5;241;43m.\u001b[39;49m\u001b[43mkernel_size\u001b[49m\u001b[43m,\u001b[49m\u001b[43m \u001b[49m\u001b[38;5;28;43mself\u001b[39;49m\u001b[38;5;241;43m.\u001b[39;49m\u001b[43mstride\u001b[49m\u001b[43m,\u001b[49m\n\u001b[0;32m    167\u001b[0m \u001b[43m                        \u001b[49m\u001b[38;5;28;43mself\u001b[39;49m\u001b[38;5;241;43m.\u001b[39;49m\u001b[43mpadding\u001b[49m\u001b[43m,\u001b[49m\u001b[43m \u001b[49m\u001b[38;5;28;43mself\u001b[39;49m\u001b[38;5;241;43m.\u001b[39;49m\u001b[43mdilation\u001b[49m\u001b[43m,\u001b[49m\u001b[43m \u001b[49m\u001b[43mceil_mode\u001b[49m\u001b[38;5;241;43m=\u001b[39;49m\u001b[38;5;28;43mself\u001b[39;49m\u001b[38;5;241;43m.\u001b[39;49m\u001b[43mceil_mode\u001b[49m\u001b[43m,\u001b[49m\n\u001b[0;32m    168\u001b[0m \u001b[43m                        \u001b[49m\u001b[43mreturn_indices\u001b[49m\u001b[38;5;241;43m=\u001b[39;49m\u001b[38;5;28;43mself\u001b[39;49m\u001b[38;5;241;43m.\u001b[39;49m\u001b[43mreturn_indices\u001b[49m\u001b[43m)\u001b[49m\n",
      "File \u001b[1;32m~\\anaconda3\\envs\\aiclass\\lib\\site-packages\\torch\\_jit_internal.py:485\u001b[0m, in \u001b[0;36mboolean_dispatch.<locals>.fn\u001b[1;34m(*args, **kwargs)\u001b[0m\n\u001b[0;32m    483\u001b[0m     \u001b[38;5;28;01mreturn\u001b[39;00m if_true(\u001b[38;5;241m*\u001b[39margs, \u001b[38;5;241m*\u001b[39m\u001b[38;5;241m*\u001b[39mkwargs)\n\u001b[0;32m    484\u001b[0m \u001b[38;5;28;01melse\u001b[39;00m:\n\u001b[1;32m--> 485\u001b[0m     \u001b[38;5;28;01mreturn\u001b[39;00m if_false(\u001b[38;5;241m*\u001b[39margs, \u001b[38;5;241m*\u001b[39m\u001b[38;5;241m*\u001b[39mkwargs)\n",
      "File \u001b[1;32m~\\anaconda3\\envs\\aiclass\\lib\\site-packages\\torch\\nn\\functional.py:782\u001b[0m, in \u001b[0;36m_max_pool2d\u001b[1;34m(input, kernel_size, stride, padding, dilation, ceil_mode, return_indices)\u001b[0m\n\u001b[0;32m    780\u001b[0m \u001b[38;5;28;01mif\u001b[39;00m stride \u001b[38;5;129;01mis\u001b[39;00m \u001b[38;5;28;01mNone\u001b[39;00m:\n\u001b[0;32m    781\u001b[0m     stride \u001b[38;5;241m=\u001b[39m torch\u001b[38;5;241m.\u001b[39mjit\u001b[38;5;241m.\u001b[39mannotate(List[\u001b[38;5;28mint\u001b[39m], [])\n\u001b[1;32m--> 782\u001b[0m \u001b[38;5;28;01mreturn\u001b[39;00m \u001b[43mtorch\u001b[49m\u001b[38;5;241;43m.\u001b[39;49m\u001b[43mmax_pool2d\u001b[49m\u001b[43m(\u001b[49m\u001b[38;5;28;43minput\u001b[39;49m\u001b[43m,\u001b[49m\u001b[43m \u001b[49m\u001b[43mkernel_size\u001b[49m\u001b[43m,\u001b[49m\u001b[43m \u001b[49m\u001b[43mstride\u001b[49m\u001b[43m,\u001b[49m\u001b[43m \u001b[49m\u001b[43mpadding\u001b[49m\u001b[43m,\u001b[49m\u001b[43m \u001b[49m\u001b[43mdilation\u001b[49m\u001b[43m,\u001b[49m\u001b[43m \u001b[49m\u001b[43mceil_mode\u001b[49m\u001b[43m)\u001b[49m\n",
      "\u001b[1;31mRuntimeError\u001b[0m: Given input size: (24x1x1). Calculated output size: (24x0x0). Output size is too small"
     ]
    },
    {
     "data": {
      "image/png": "[encoded data removed]",
      "text/plain": [
       "<Figure size 432x288 with 1 Axes>"
      ]
     },
     "metadata": {
      "needs_background": "light"
     },
     "output_type": "display_data"
    }
   ],
   "source": [
    "training(ftrn_load,ftst_load,AlexNet,\"CEL\",\"P4_model\",10,0.01,0.0001,1,0.9,1,11,11)"
   ]
  },
  {
   "cell_type": "code",
   "execution_count": 32,
   "id": "a52488b0",
   "metadata": {},
   "outputs": [],
   "source": [
    "torch.save(AlexNet.state_dict(), \"P4_model\")"
   ]
  },
  {
   "cell_type": "code",
   "execution_count": null,
   "id": "0c320822",
   "metadata": {},
   "outputs": [],
   "source": []
  }
 ],
 "metadata": {
  "kernelspec": {
   "display_name": "aiclass",
   "language": "python",
   "name": "aiclass"
  },
  "language_info": {
   "codemirror_mode": {
    "name": "ipython",
    "version": 3
   },
   "file_extension": ".py",
   "mimetype": "text/x-python",
   "name": "python",
   "nbconvert_exporter": "python",
   "pygments_lexer": "ipython3",
   "version": "3.9.15"
  }
 },
 "nbformat": 4,
 "nbformat_minor": 5
}
